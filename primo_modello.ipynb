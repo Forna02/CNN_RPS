{
 "cells": [
  {
   "cell_type": "code",
   "execution_count": null,
   "id": "e804fa2d-cab9-4aff-b280-c629a256dabf",
   "metadata": {},
   "outputs": [],
   "source": [
    "import tensorflow\n",
    "from tensorflow.keras.callbacks import EarlyStopping\n",
    "import tensorflow.keras.layers as layer\n",
    "from tensorflow.keras.preprocessing.image import ImageDataGenerator\n",
    "from tools import create_split_gen, plot_fitting_history,class_report,find_errors\n",
    "tensorflow.keras.utils.set_random_seed(812)\n",
    "tensorflow.config.experimental.enable_op_determinism()"
   ]
  },
  {
   "cell_type": "code",
   "execution_count": null,
   "id": "07b979a3-5393-49b6-a5d1-849092d9caab",
   "metadata": {},
   "outputs": [],
   "source": [
    "train_augmentation = ImageDataGenerator(\n",
    "    rescale = 1./255,\n",
    "    rotation_range=20,\n",
    "    zoom_range=0.1,\n",
    "    horizontal_flip=True,\n",
    "    width_shift_range=0.1,   \n",
    "    height_shift_range=0.1 )\n",
    "train_gen = create_split_gen(train_augmentation, path= \"/home/ocelot/Desktop/CNN_RPS/Archive/train\")\n",
    "\n",
    "val_gen = create_split_gen(ImageDataGenerator(rescale = 1./255), path = \"/home/ocelot/Desktop/CNN_RPS/Archive/validation\")\n"
   ]
  },
  {
   "cell_type": "code",
   "execution_count": null,
   "id": "17f7bd27-ba1c-4e8c-8ff7-11c07c9f6692",
   "metadata": {},
   "outputs": [],
   "source": [
    "early_stop = EarlyStopping(monitor=\"val_loss\", patience=10, restore_best_weights=True)\n",
    "model = tensorflow.keras.models.Sequential([\n",
    "    layer.InputLayer(shape=(100,150,1)),\n",
    "    layer.Conv2D(filters=(32), kernel_size=(3,3), activation=\"relu\"),\n",
    "    layer.MaxPooling2D(pool_size=(2,2)),\n",
    "    layer.Flatten(),\n",
    "    layer.Dense(64, activation=\"relu\"),\n",
    "    layer.Dense(3, activation=\"softmax\")\n",
    "])"
   ]
  },
  {
   "cell_type": "code",
   "execution_count": null,
   "id": "b91a3e3a-c180-48fb-9156-77b6a04640f9",
   "metadata": {},
   "outputs": [],
   "source": [
    "%%time\n",
    "model.compile(optimizer=\"adam\", loss=\"categorical_crossentropy\", metrics=[\"accuracy\"])\n",
    "history=model.fit(train_gen, epochs=100, callbacks=[early_stop], validation_data=val_gen)"
   ]
  },
  {
   "cell_type": "code",
   "execution_count": null,
   "id": "3e291351-74d1-41f0-8ee7-a7682fe25f30",
   "metadata": {},
   "outputs": [],
   "source": [
    "plot_fitting_history(history)"
   ]
  },
  {
   "cell_type": "code",
   "execution_count": null,
   "id": "3e350ddb-a341-4c9d-9cc5-37ecace329eb",
   "metadata": {},
   "outputs": [],
   "source": [
    "test_gen = create_split_gen(ImageDataGenerator(rescale = 1./255), \"/home/ocelot/Desktop/CNN_RPS/Archive/test\", shuffle = False)\n"
   ]
  },
  {
   "cell_type": "code",
   "execution_count": null,
   "id": "b5d8a230-0786-4d11-b8eb-0566e021cba8",
   "metadata": {},
   "outputs": [],
   "source": [
    "testLoss, testAccuracy = model.evaluate(test_gen)"
   ]
  },
  {
   "cell_type": "code",
   "execution_count": null,
   "id": "af8160a5-0297-4cb7-b7e6-df555c58603f",
   "metadata": {},
   "outputs": [],
   "source": [
    "pred = model.predict(test_gen)\n",
    "report = class_report(pred, test_gen)"
   ]
  },
  {
   "cell_type": "code",
   "execution_count": null,
   "id": "250dd23a-d384-419f-9146-79dbcb9a2afc",
   "metadata": {},
   "outputs": [],
   "source": [
    "report[\"scissors\"]"
   ]
  },
  {
   "cell_type": "code",
   "execution_count": null,
   "id": "b56cf9bc-6b39-49ee-b2a2-d68607b76e32",
   "metadata": {},
   "outputs": [],
   "source": [
    "report[\"paper\"]"
   ]
  },
  {
   "cell_type": "code",
   "execution_count": null,
   "id": "37e049d6-76a0-4f02-be62-f7f1c38111f9",
   "metadata": {},
   "outputs": [],
   "source": [
    "report[\"rock\"]"
   ]
  },
  {
   "cell_type": "code",
   "execution_count": null,
   "id": "c1822869-7888-4203-a504-f6ae30a096cb",
   "metadata": {},
   "outputs": [],
   "source": [
    "find_errors(pred, test_gen.classes, test_gen)"
   ]
  },
  {
   "cell_type": "code",
   "execution_count": null,
   "id": "f5c061b4-b6f4-4131-ae15-7014b16f1299",
   "metadata": {},
   "outputs": [],
   "source": [
    "model.save(\"primo.keras\")"
   ]
  },
  {
   "cell_type": "code",
   "execution_count": null,
   "id": "95ba36d7-6008-4c4f-9cec-262c080ba9cd",
   "metadata": {},
   "outputs": [],
   "source": []
  }
 ],
 "metadata": {
  "kernelspec": {
   "display_name": "tf",
   "language": "python",
   "name": "tf"
  },
  "language_info": {
   "codemirror_mode": {
    "name": "ipython",
    "version": 3
   },
   "file_extension": ".py",
   "mimetype": "text/x-python",
   "name": "python",
   "nbconvert_exporter": "python",
   "pygments_lexer": "ipython3",
   "version": "3.12.3"
  }
 },
 "nbformat": 4,
 "nbformat_minor": 5
}
