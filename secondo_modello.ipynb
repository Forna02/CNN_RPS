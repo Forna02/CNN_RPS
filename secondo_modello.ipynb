{
 "cells": [
  {
   "cell_type": "code",
   "execution_count": null,
   "id": "8f324234-0f49-4005-bbfe-2a173485e3cc",
   "metadata": {},
   "outputs": [],
   "source": [
    "import tensorflow\n",
    "from tensorflow.keras.callbacks import EarlyStopping\n",
    "import tensorflow.keras.layers as layer\n",
    "from tensorflow.keras.preprocessing.image import ImageDataGenerator\n",
    "import os\n",
    "import numpy as np\n",
    "from tools import create_split_gen, plot_fitting_history,class_report,find_errors\n",
    "tensorflow.keras.utils.set_random_seed(812)\n",
    "tensorflow.config.experimental.enable_op_determinism()"
   ]
  },
  {
   "cell_type": "code",
   "execution_count": null,
   "id": "67db3387-88c4-47a4-80fd-808f9f570228",
   "metadata": {},
   "outputs": [],
   "source": [
    "train_augmentation = ImageDataGenerator(\n",
    "    rescale = 1./255,\n",
    "    rotation_range=20,\n",
    "    zoom_range=0.1,\n",
    "    horizontal_flip=True,\n",
    "    width_shift_range=0.1,   \n",
    "    height_shift_range=0.1 )\n",
    "train_gen = create_split_gen(train_augmentation, path=\"/home/ocelot/Desktop/CNN_RPS/Archive/train\", label_type=\"sparse\")\n",
    "\n",
    "val_gen = create_split_gen(ImageDataGenerator(rescale = 1./255), path=\"/home/ocelot/Desktop/CNN_RPS/Archive/validation\", label_type=\"sparse\")\n",
    "    "
   ]
  },
  {
   "cell_type": "code",
   "execution_count": null,
   "id": "fdea15a9-fbaf-47c3-984d-7b4426c1ba81",
   "metadata": {},
   "outputs": [],
   "source": [
    "early_stop = EarlyStopping(monitor=\"val_loss\", patience=10, restore_best_weights=True)\n",
    "def crea_modello(drop_param = 0.5, learning_rate=0.001, num_filter_1=32, num_filter_2=64):\n",
    "    model = tensorflow.keras.models.Sequential([\n",
    "        layer.InputLayer(shape=(100,150,1)),\n",
    "        layer.Conv2D(filters=(num_filter_1), kernel_size=(3,3), activation=\"relu\"),\n",
    "        layer.MaxPooling2D(pool_size=(2,2)),\n",
    "        layer.Conv2D(filters=(num_filter_2), kernel_size=(3,3), activation=\"relu\"),\n",
    "        layer.MaxPooling2D(pool_size=(2,2)),\n",
    "        layer.Flatten(),\n",
    "        layer.Dense(128, activation=\"relu\"),\n",
    "        layer.Dropout(drop_param),\n",
    "        layer.Dense(3, activation=\"softmax\")\n",
    "    ])\n",
    "    optimizer = tensorflow.keras.optimizers.Adam(learning_rate=learning_rate)\n",
    "    model.compile(optimizer=optimizer, loss=\"sparse_categorical_crossentropy\", metrics=[\"accuracy\"])\n",
    "    return model\n",
    "    "
   ]
  },
  {
   "cell_type": "code",
   "execution_count": null,
   "id": "7aada7ab-6fd0-40cb-8253-ee024a7ac40e",
   "metadata": {},
   "outputs": [],
   "source": [
    "from scikeras.wrappers import KerasClassifier\n",
    "from sklearn.model_selection import GridSearchCV, StratifiedKFold\n",
    "model = KerasClassifier(model = crea_modello, epochs=15, batch_size=32,verbose=0)\n",
    "griglia = {\n",
    "    \"model__drop_param\": [0.25, 0.5],\n",
    "    \"model__learning_rate\":[1e-3, 5e-4, 1e-4],\n",
    "    \"model__num_filter_1\":[32,64],\n",
    "    \"model__num_filter_2\":[32,64]\n",
    "}\n",
    "\n",
    "kfold = StratifiedKFold(n_splits=3, shuffle=True, random_state=42)\n",
    "\n",
    "grid_search = GridSearchCV(\n",
    "    estimator=model,\n",
    "    param_grid=griglia,\n",
    "    cv=kfold,               \n",
    "    scoring='accuracy',         \n",
    "    verbose=0,\n",
    "    n_jobs=1 )"
   ]
  },
  {
   "cell_type": "code",
   "execution_count": null,
   "id": "c450fa39-226c-44e5-815b-b21739468bd8",
   "metadata": {},
   "outputs": [],
   "source": [
    "import os\n",
    "import cv2\n",
    "Im = []\n",
    "target = []\n",
    "\n",
    "cat = [\"paper\", \"scissors\", \"rock\"]\n",
    "vettori = {\"paper\":0, \"scissors\":2, \"rock\":1}\n",
    "for i in cat:\n",
    "    for j in os.listdir(os.path.join(\"/home/ocelot/Desktop/CNN_RPS/Archive/train\", i)):\n",
    "        Im.append(cv2.imread(os.path.join(\"/home/ocelot/Desktop/CNN_RPS/Archive/train\", i,j), 0))\n",
    "        target.append(vettori[i])\n",
    "X_train = np.array(Im).astype('float32') / 255.0\n",
    "X_train = np.expand_dims(X_train, axis=-1)\n",
    "Y_train = np.array(target)"
   ]
  },
  {
   "cell_type": "code",
   "execution_count": null,
   "id": "e21d00f2-16a5-4ed5-945c-2f55132b7b8f",
   "metadata": {},
   "outputs": [],
   "source": [
    "%%time\n",
    "risultati = grid_search.fit(X_train, Y_train )"
   ]
  },
  {
   "cell_type": "code",
   "execution_count": null,
   "id": "fe5763d5-75d2-490d-8261-4e04d25c1bf3",
   "metadata": {},
   "outputs": [],
   "source": [
    "print(\"Best parameters:\", grid_search.best_params_)"
   ]
  },
  {
   "cell_type": "code",
   "execution_count": null,
   "id": "8ee260fa-b54d-43be-a23a-598520a9e88c",
   "metadata": {},
   "outputs": [],
   "source": [
    "final_model = crea_modello(drop_param=0.25, learning_rate=0.0005, num_filter_1=64, num_filter_2=32)\n",
    "history= final_model.fit(train_gen, epochs=50, callbacks=[early_stop], validation_data=val_gen)"
   ]
  },
  {
   "cell_type": "code",
   "execution_count": null,
   "id": "295e151b-a668-4b55-b742-c4283b357da8",
   "metadata": {
    "scrolled": true
   },
   "outputs": [],
   "source": [
    "plot_fitting_history(history)"
   ]
  },
  {
   "cell_type": "code",
   "execution_count": null,
   "id": "cdfcb723-d682-48a3-9369-6ebb8640921e",
   "metadata": {},
   "outputs": [],
   "source": [
    "test_gen = create_split_gen(ImageDataGenerator(rescale = 1./255), path= \"/home/ocelot/Desktop/CNN_RPS/Archive/test\", shuffle=False, label_type=\"sparse\")"
   ]
  },
  {
   "cell_type": "code",
   "execution_count": null,
   "id": "f9f8ae00-c407-403a-8b7a-0c58d777e936",
   "metadata": {},
   "outputs": [],
   "source": [
    "testLoss, testAccuracy = final_model.evaluate(test_gen)"
   ]
  },
  {
   "cell_type": "code",
   "execution_count": null,
   "id": "ed689815-e933-4c17-b0ed-ff78c8317253",
   "metadata": {},
   "outputs": [],
   "source": [
    "pred = final_model.predict(test_gen)\n",
    "report = class_report(pred, test_gen)"
   ]
  },
  {
   "cell_type": "code",
   "execution_count": null,
   "id": "538916c1-4273-46fa-88f8-0aa8eb4b27b3",
   "metadata": {
    "scrolled": true
   },
   "outputs": [],
   "source": [
    "report[\"scissors\"]"
   ]
  },
  {
   "cell_type": "code",
   "execution_count": null,
   "id": "1cb44e30-c693-422d-a426-fc50a43d3c96",
   "metadata": {},
   "outputs": [],
   "source": [
    "report[\"rock\"]"
   ]
  },
  {
   "cell_type": "code",
   "execution_count": null,
   "id": "3af63074-b6bf-46ca-8a3a-e5a4d3055ed5",
   "metadata": {},
   "outputs": [],
   "source": [
    "report[\"paper\"]"
   ]
  },
  {
   "cell_type": "code",
   "execution_count": null,
   "id": "9a258584-45fe-4d95-b3bc-72e73b844d5f",
   "metadata": {
    "scrolled": true
   },
   "outputs": [],
   "source": [
    "find_errors(pred, test_gen.classes, test_gen)"
   ]
  },
  {
   "cell_type": "code",
   "execution_count": null,
   "id": "51aa2f39-066d-4766-bf6e-7345000004d8",
   "metadata": {},
   "outputs": [],
   "source": [
    "final_model.save(\"/home/ocelot/Desktop/secondo.keras\")"
   ]
  },
  {
   "cell_type": "code",
   "execution_count": null,
   "id": "bd5a902a-6ac3-41ea-a651-a45203d43e00",
   "metadata": {},
   "outputs": [],
   "source": []
  }
 ],
 "metadata": {
  "kernelspec": {
   "display_name": "tf",
   "language": "python",
   "name": "tf"
  },
  "language_info": {
   "codemirror_mode": {
    "name": "ipython",
    "version": 3
   },
   "file_extension": ".py",
   "mimetype": "text/x-python",
   "name": "python",
   "nbconvert_exporter": "python",
   "pygments_lexer": "ipython3",
   "version": "3.12.3"
  }
 },
 "nbformat": 4,
 "nbformat_minor": 5
}
