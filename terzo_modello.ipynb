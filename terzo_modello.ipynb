{
 "cells": [
  {
   "cell_type": "code",
   "execution_count": null,
   "id": "d442f6c5-d1db-4748-a199-fd9265717d3a",
   "metadata": {},
   "outputs": [],
   "source": [
    "import tensorflow \n",
    "from tensorflow.keras.callbacks import EarlyStopping\n",
    "import tensorflow.keras.layers as layer\n",
    "from tensorflow.keras.preprocessing.image import ImageDataGenerator\n",
    "import keras_tuner as kt\n",
    "from tools import create_split_gen, plot_fitting_history,class_report,find_errors\n",
    "tensorflow.keras.utils.set_random_seed(812)\n",
    "tensorflow.config.experimental.enable_op_determinism()"
   ]
  },
  {
   "cell_type": "code",
   "execution_count": null,
   "id": "dfd7b9ee-5b9d-4a28-be39-140a845a8bc0",
   "metadata": {},
   "outputs": [],
   "source": [
    "train_augmentation = ImageDataGenerator(\n",
    "    rescale = 1./255,\n",
    "    rotation_range=20,\n",
    "    zoom_range=0.1,\n",
    "    horizontal_flip=True,\n",
    "    width_shift_range=0.1,   \n",
    "    height_shift_range=0.1 )\n",
    "train_gen = create_split_gen(train_augmentation, path=\"/home/ocelot/Desktop/CNN_RPS/Archive/train\")\n",
    "\n",
    "val_gen = create_split_gen(ImageDataGenerator(rescale = 1./255), path=\"/home/ocelot/Desktop/CNN_RPS/Archive/validation\")\n",
    "\n",
    "    "
   ]
  },
  {
   "cell_type": "code",
   "execution_count": null,
   "id": "43886a79-d813-4e24-ad7c-2445ebdad005",
   "metadata": {},
   "outputs": [],
   "source": [
    "early_stop = EarlyStopping(monitor=\"val_loss\", patience=20, restore_best_weights=True, verbose=1)\n",
    "def create_model(hp):\n",
    "    model = tensorflow.keras.models.Sequential([\n",
    "        layer.InputLayer(shape=(100,150,1)),\n",
    "        layer.Conv2D(hp.Choice('conv_1', [32,64]), (3,3), padding='same'),\n",
    "        layer.BatchNormalization(), \n",
    "        layer.Activation(\"relu\"),\n",
    "        layer.Conv2D(hp.Choice('conv_1', [32,64]), (3,3), padding='same'),\n",
    "        layer.BatchNormalization(), \n",
    "        layer.Activation(\"relu\"),\n",
    "        layer.MaxPooling2D((2,2)),\n",
    "        layer.Conv2D(hp.Choice('conv_2', [64, 128]), (3,3), padding='same'),\n",
    "        layer.BatchNormalization(), \n",
    "        layer.Activation(\"relu\"),\n",
    "        layer.Conv2D(hp.Choice('conv_2', [64, 128]), (3,3), padding='same'),\n",
    "        layer.BatchNormalization(), \n",
    "        layer.Activation(\"relu\"),\n",
    "        layer.MaxPooling2D((2,2)),\n",
    "        layer.Conv2D(hp.Choice('conv_3', [128, 256]), (3,3), padding='same'),\n",
    "        layer.BatchNormalization(), \n",
    "        layer.Activation(\"relu\"),\n",
    "        layer.Conv2D(hp.Choice('conv_3', [128, 256]), (3,3), padding='same'),\n",
    "        layer.BatchNormalization(), \n",
    "        layer.Activation(\"relu\"),\n",
    "        layer.MaxPooling2D((2,2)),\n",
    "        layer.GlobalAveragePooling2D(),      \n",
    "        layer.Dense(hp.Choice('num_units', [64, 128, 256]), activation='relu'),\n",
    "        layer.Dropout(hp.Float(\"dropout\", min_value=0.25, max_value=0.50, step=0.25)),\n",
    "        layer.Dense(3, activation='softmax')])\n",
    "    optim = tensorflow.keras.optimizers.Adam(learning_rate=hp.Float('learning_rate', 1e-4, 1e-2, sampling='log'))\n",
    "    model.compile(optimizer=optim, loss=\"categorical_crossentropy\", metrics=[\"accuracy\"])\n",
    "    return model"
   ]
  },
  {
   "cell_type": "code",
   "execution_count": null,
   "id": "41f19e71-44a3-499a-9e45-fc4888f26301",
   "metadata": {},
   "outputs": [],
   "source": [
    "tuner = kt.RandomSearch(\n",
    "    create_model, \n",
    "    objective='val_accuracy',  \n",
    "    max_trials=25,  \n",
    "    executions_per_trial=3,  \n",
    "    directory='/home/ocelot/Desktop', \n",
    "    project_name='cnn_tuning',\n",
    "    seed=812\n",
    ")"
   ]
  },
  {
   "cell_type": "code",
   "execution_count": null,
   "id": "11da96da-9781-4a0b-82b8-ba067dffb335",
   "metadata": {},
   "outputs": [],
   "source": [
    "result= tuner.search(train_gen,  \n",
    "             epochs=20,\n",
    "             validation_data=val_gen)"
   ]
  },
  {
   "cell_type": "code",
   "execution_count": null,
   "id": "3f216b68-8fb6-4da6-b4e4-45aa57f1a5c6",
   "metadata": {},
   "outputs": [],
   "source": [
    "best_hps = tuner.get_best_hyperparameters(num_trials=1)[0]\n",
    "for param, value in best_hps.values.items():\n",
    "    print(f\"  {param}: {value}\")"
   ]
  },
  {
   "cell_type": "code",
   "execution_count": null,
   "id": "3e9616ba-efe4-4b98-8bdb-dbe11e4d2303",
   "metadata": {},
   "outputs": [],
   "source": [
    "best_model = create_model(best_hps)"
   ]
  },
  {
   "cell_type": "code",
   "execution_count": null,
   "id": "5f6dc265-9bf7-4a66-9bdd-98eaebb7fd49",
   "metadata": {},
   "outputs": [],
   "source": [
    "from tensorflow.keras.callbacks import ReduceLROnPlateau\n",
    "lr_scheduler = ReduceLROnPlateau(\n",
    "    monitor='val_loss',\n",
    "    factor=0.5,\n",
    "    patience=3,\n",
    "    verbose=1,\n",
    "    min_lr=1e-6\n",
    ")\n",
    "history= best_model.fit(train_gen, epochs=50, callbacks=[early_stop,lr_scheduler], validation_data=val_gen)"
   ]
  },
  {
   "cell_type": "code",
   "execution_count": null,
   "id": "5c7aee83-2a9a-48f2-a5e4-73c431eaf9f2",
   "metadata": {},
   "outputs": [],
   "source": [
    "plot_fitting_history(history)"
   ]
  },
  {
   "cell_type": "code",
   "execution_count": null,
   "id": "d9f358cc-305d-4181-b5b5-dfd8a4679992",
   "metadata": {},
   "outputs": [],
   "source": [
    "test_gen = create_split_gen(ImageDataGenerator(rescale = 1./255), path =\"/home/ocelot/Desktop/CNN_RPS/Archive/test\", shuffle=False)"
   ]
  },
  {
   "cell_type": "code",
   "execution_count": null,
   "id": "df9619f5-2b8f-45f6-b5c4-6495db9f7907",
   "metadata": {},
   "outputs": [],
   "source": [
    "testLoss, testAccuracy = best_model.evaluate(test_gen)"
   ]
  },
  {
   "cell_type": "code",
   "execution_count": null,
   "id": "0bececf1-4233-43d3-b625-cf6d4f141154",
   "metadata": {},
   "outputs": [],
   "source": [
    "pred = best_model.predict(test_gen)\n",
    "report = class_report(pred,test_gen)"
   ]
  },
  {
   "cell_type": "code",
   "execution_count": null,
   "id": "a252adaa-8bdd-4af8-862c-56c7c49bd237",
   "metadata": {},
   "outputs": [],
   "source": [
    "report[\"scissors\"]"
   ]
  },
  {
   "cell_type": "code",
   "execution_count": null,
   "id": "b6ad8b95-ee01-483d-b085-a6f496317ea6",
   "metadata": {},
   "outputs": [],
   "source": [
    "report[\"rock\"]"
   ]
  },
  {
   "cell_type": "code",
   "execution_count": null,
   "id": "27dbff13-e90f-42b0-a4c1-827c60b3c3a8",
   "metadata": {},
   "outputs": [],
   "source": [
    "report[\"paper\"]"
   ]
  },
  {
   "cell_type": "code",
   "execution_count": null,
   "id": "601ca7f0-39a7-48f7-823b-74d2f5dd04bb",
   "metadata": {},
   "outputs": [],
   "source": [
    "find_errors(pred, test_gen.classes, test_gen)"
   ]
  },
  {
   "cell_type": "code",
   "execution_count": null,
   "id": "9d89e0d7-38a2-4b78-b656-76e4438b5a02",
   "metadata": {},
   "outputs": [],
   "source": [
    "best_model.save(\"/home/ocelot/Desktop/terzo_def.keras\")"
   ]
  },
  {
   "cell_type": "code",
   "execution_count": null,
   "id": "f425e9b5-c94b-4049-b733-0969235ca89b",
   "metadata": {},
   "outputs": [],
   "source": []
  }
 ],
 "metadata": {
  "kernelspec": {
   "display_name": "tf",
   "language": "python",
   "name": "tf"
  },
  "language_info": {
   "codemirror_mode": {
    "name": "ipython",
    "version": 3
   },
   "file_extension": ".py",
   "mimetype": "text/x-python",
   "name": "python",
   "nbconvert_exporter": "python",
   "pygments_lexer": "ipython3",
   "version": "3.12.3"
  }
 },
 "nbformat": 4,
 "nbformat_minor": 5
}
